{
  "cells": [
    {
      "cell_type": "raw",
      "metadata": {},
      "source": [
        "---\n",
        "output: html_document\n",
        "editor_options: \n",
        "  chunk_output_type: console\n",
        "---"
      ],
      "id": "9a9b193e"
    },
    {
      "cell_type": "markdown",
      "metadata": {},
      "source": [
        "# Fundamentos de Python\n",
        "\n",
        "::: {.callout-important title=\"Atenção!!!\"}\n",
        "A partir de agora, todo o código apresentado neste livro está na linguagem Python.\n",
        ":::\n",
        "\n",
        "A fonte para a contrução deste material é @mckinney2022.\n",
        "\n",
        "## Instalação\n",
        "\n",
        "Siga os passos abaixo para realizar a instalação do Anaconda e do JupyterLab:\n",
        "\n",
        "1.  Baixe e instale o Anaconda a partir do [site oficial](https://www.anaconda.com/products/distribution). Siga as instruções de instalação para o seu sistema operacional específico.\n",
        "\n",
        "2.  Após instalar o Anaconda, abra o Anaconda Navigator e crie um novo ambiente virtual. Navegue até a seção \"Environments\" e clique em \"Create\" para adicionar um novo ambiente. Dê um nome ao ambiente e escolha a versão do Python que deseja usar.\n",
        "\n",
        "3.  Após criar o ambiente virtual, ative-o clicando no ambiente virtual recém-criado na lista de ambientes e selecionando \"Open Terminal\". No terminal, digite o comando `conda activate nome_do_seu_ambiente` (substitua `nome_do_seu_ambiente` pelo nome do ambiente que você criou).\n",
        "\n",
        "4.  Com o ambiente virtual ativado, instale o JupyterLab digitando `conda install jupyterlab` no terminal.\n",
        "\n",
        "5.  Depois de instalar o JupyterLab, execute-o digitando `jupyter lab` no terminal ou através da interface do Anaconda. Isso abrirá o JupyterLab no seu navegador padrão.\n",
        "\n",
        "6.  No JupyterLab, você pode criar um novo notebook Python clicando no ícone \"+\" na barra lateral esquerda e selecionando \"Python 3\" sob o cabeçalho \"Notebook\".\n",
        "\n",
        "## Tipos de dados fundamentais\n",
        "\n",
        "Em Python, os tipos de dados fundamentais incluem `integer`, `float`, `string` e `boolean`:\n",
        "\n",
        "-   Integers são números inteiros, como 1, 2, -3, etc. - Floats são números decimais, como 3.14, -0.5, etc.\n",
        "-   Strings são sequências de caracteres, como \"hello\", \"world\", \"python\", etc.\n",
        "-   Booleans são valores lógicos que representam verdadeiro (`True`) ou falso (`False`).\n",
        "\n",
        "Esses tipos de dados são os blocos básicos para representar diferentes tipos de informações em Python, e são amplamente utilizados em programação para realizar operações e manipulações de dados.\n",
        "\n",
        "### O tipo de dado inteiro\n",
        "\n",
        "Um tipo de dados inteiro (`integer`) em Python representa números inteiros, ou seja, números sem casas decimais. Por exemplo, 5, -10 e 0 são todos exemplos de números inteiros. No Python, os inteiros são representados pela classe `int`. Nos exemplos abaixo realizamos operações básicas com números inteiros.\n"
      ],
      "id": "35308c16"
    },
    {
      "cell_type": "code",
      "metadata": {},
      "source": [
        "2 + 2  "
      ],
      "id": "c82a3c90",
      "execution_count": null,
      "outputs": []
    },
    {
      "cell_type": "markdown",
      "metadata": {},
      "source": [
        "Na primeira linha, calculamos a soma de 2 com 2.\n"
      ],
      "id": "f9de9b1c"
    },
    {
      "cell_type": "code",
      "metadata": {},
      "source": [
        "quantidade = 200\n",
        "print(quantidade)\n",
        "type(quantidade)"
      ],
      "id": "e455fa61",
      "execution_count": null,
      "outputs": []
    },
    {
      "cell_type": "markdown",
      "metadata": {},
      "source": [
        "Acima, atribuímos o valor 200 à variável `quantidade` e a imprimimos usando `print(quantidade)`. Por fim, verificamos o tipo de dado da variável `quantidade` com `type(quantidade)`, que retorna `<class 'int'>`, indicando que é um número inteiro.\n",
        "\n",
        "### O tipo de dado ponto flutuante\n",
        "\n",
        "Um tipo de dado ponto flutuante (`float`) em Python representa números decimais, ou seja, números que podem ter uma parte fracionária. Por exemplo, 3.14, -0.001, e 2.71828 são todos floats. Em Python, os floats são representados pela classe `float`.\n"
      ],
      "id": "6b6dc3f3"
    },
    {
      "cell_type": "code",
      "metadata": {},
      "source": [
        "1.75 + 2**3 \n",
        "taxa_juros = 1.25\n",
        "\n",
        "print(taxa_juros)\n",
        "type(taxa_juros)"
      ],
      "id": "688dba4e",
      "execution_count": null,
      "outputs": []
    },
    {
      "cell_type": "markdown",
      "metadata": {},
      "source": [
        "Na primeira linha do exemplo acima, calculamos a soma de 1.75 com 2 elevado à terceira potência. Em seguida, atribuímos o valor 1.25 à variável `taxa_juros` e a imprimimos usando `print(taxa_juros)`. Por fim, verificamos o tipo de dado da variável `taxa_juros` com `type(taxa_juros)`, que retorna `<class 'float'>`, indicando que é um número do tipo ponto flutuante.\n",
        "\n",
        "### O tipo de dado cadeia de caracteres\n"
      ],
      "id": "0ca75556"
    },
    {
      "cell_type": "code",
      "metadata": {},
      "source": [
        "pais = \"Brasil\" \n",
        "\n",
        "print(pais)\n",
        "type(pais)"
      ],
      "id": "189dc577",
      "execution_count": null,
      "outputs": []
    },
    {
      "cell_type": "markdown",
      "metadata": {},
      "source": [
        "No código acima, criamos uma variável chamada `pais` e atribuímos a ela o valor \"Brasil\", que é uma string. Em seguida, imprimimos o valor da variável `pais` usando `print(pais)`, o que exibe \"Brasil\" na tela. Por fim, verificamos o tipo de dado da variável `pais` com `type(pais)`, que retorna `<class 'str'>`, indicando que é uma string.\n",
        "\n",
        "### O tipo de dado lógico\n",
        "\n",
        "O tipo de dados lógico, também conhecido como booleano (`bool`), é usado para representar valores de verdadeiro ou falso. No Python, os valores booleanos são `True` e `False`, que representam verdadeiro e falso, respectivamente.\n"
      ],
      "id": "337e2580"
    },
    {
      "cell_type": "code",
      "metadata": {},
      "source": [
        "1 == 2"
      ],
      "id": "3b304372",
      "execution_count": null,
      "outputs": []
    },
    {
      "cell_type": "code",
      "metadata": {},
      "source": [
        "5 % 2 == 0"
      ],
      "id": "8df1f057",
      "execution_count": null,
      "outputs": []
    },
    {
      "cell_type": "code",
      "metadata": {},
      "source": [
        "taxa_juros_aumentando = True\n",
        "print(taxa_juros_aumentando)\n",
        "type(taxa_juros_aumentando)"
      ],
      "id": "963e854b",
      "execution_count": null,
      "outputs": []
    },
    {
      "cell_type": "markdown",
      "metadata": {},
      "source": [
        "Na primeira linha do exemplo acima, há uma verificação de igualdade entre 1 e 2, que retorna `False` porque 1 não é igual a 2. Em seguida, temos `5 % 2 == 0`, que também retorna `False` porque o resto da divisão de 5 por 2 não é igual a zero. Por fim, temos a variável `taxa_juros_aumentando` atribuída a `True`, indicando que a taxa de juros está aumentando. Ao imprimir e verificar o tipo dessa variável, obtemos `True` como resultado e o tipo `bool`, indicando que é um valor lógico.\n",
        "\n",
        "### Coerção de tipos\n",
        "\n",
        "A coerção de dados em Python refere-se à conversão forçada de um tipo de dado para outro.\n"
      ],
      "id": "00cd5505"
    },
    {
      "cell_type": "code",
      "metadata": {},
      "source": [
        "str_num = \"1.41\"\n",
        "type(str_num)"
      ],
      "id": "a03e700c",
      "execution_count": null,
      "outputs": []
    },
    {
      "cell_type": "code",
      "metadata": {},
      "source": [
        "float(str_num)"
      ],
      "id": "6f9a2f44",
      "execution_count": null,
      "outputs": []
    },
    {
      "cell_type": "markdown",
      "metadata": {},
      "source": [
        "Veja que a variável `str_num` é uma string que representa o número 1.41. Inicialmente, seu tipo é verificado usando a função `type`, que retorna `<class 'str'>`, indicando que é uma `string`. Em seguida, usamos a função `float()` para converter explicitamente `str_num` em um float. Após a conversão, o valor de `str_num` é \"1.41\" e seu tipo é alterado para `<class 'float'>`.\n",
        "\n",
        "A seguir, outros exemplos de cooerção.\n",
        "\n",
        "Coerção para inteiro:\n"
      ],
      "id": "1d2dde25"
    },
    {
      "cell_type": "code",
      "metadata": {},
      "source": [
        "num_float = 3.14\n",
        "num_int = int(num_float)\n",
        "print(num_int)"
      ],
      "id": "5467319f",
      "execution_count": null,
      "outputs": []
    },
    {
      "cell_type": "markdown",
      "metadata": {},
      "source": [
        "Coerção para lógico:\n"
      ],
      "id": "ba8be43b"
    },
    {
      "cell_type": "code",
      "metadata": {},
      "source": [
        "valor_inteiro = 0\n",
        "valor_logico = bool(valor_inteiro)\n",
        "print(valor_logico)"
      ],
      "id": "2d626038",
      "execution_count": null,
      "outputs": []
    },
    {
      "cell_type": "markdown",
      "metadata": {},
      "source": [
        "Coerção para string (str):\n"
      ],
      "id": "1e1ea8a4"
    },
    {
      "cell_type": "code",
      "metadata": {},
      "source": [
        "num_float = 3.14\n",
        "num_str = str(num_float)\n",
        "print(num_str) "
      ],
      "id": "a6232ba8",
      "execution_count": null,
      "outputs": []
    },
    {
      "cell_type": "markdown",
      "metadata": {},
      "source": [
        "No código acima, estamos convertendo um valor float em string.\n",
        "\n",
        "## Objetos básicos\n",
        "\n",
        "Em Python, há três estruturas de dados básicas: listas, tuplas e dicionários: \n",
        "\n",
        "- As listas são coleções ordenadas e mutáveis de elementos, permitindo a inclusão de itens de diferentes tipos e a modificação dos valores contidos nelas. \n",
        "- As tuplas são semelhantes às listas, porém são imutáveis, ou seja, não podem ser alteradas após a sua criação. \n",
        "- Já os dicionários são coleções não ordenadas de pares chave-valor, onde cada valor é associado a uma chave única, proporcionando acesso eficiente aos dados por meio das chaves.\n",
        "\n",
        "### Listas\n",
        "\n",
        "Em Python, uma lista é uma estrutura de dados que permite armazenar uma coleção ordenada de elementos. Para criar uma lista, utilizamos colchetes `[]`, e os elementos são separados por vírgulas. Podemos instanciar uma lista vazia simplesmente utilizando `[]` ou a função `list()`. Por exemplo:\n"
      ],
      "id": "f3ef868c"
    },
    {
      "cell_type": "code",
      "metadata": {},
      "source": [
        "lista_vazia = [] # Lista vazia\n",
        "lista_vazia = list() # alternativa\n",
        "\n",
        "# lista com PIB de paises\n",
        "pib_paises = [1800, 2500, 3200, 5600, 6700]"
      ],
      "id": "fa3e1b9d",
      "execution_count": null,
      "outputs": []
    },
    {
      "cell_type": "markdown",
      "metadata": {},
      "source": [
        "No exemplo acima, também temos a lista `pib_paises` que armazena o Produto Interno Bruto (PIB) de diferentes países. Para acessar elementos de uma lista em Python, podemos utilizar o índice do elemento desejado dentro de colchetes `[]`. O índice começa do zero para o primeiro elemento, um para o segundo, e assim por diante. Por exemplo:\n"
      ],
      "id": "95d3ead6"
    },
    {
      "cell_type": "code",
      "metadata": {},
      "source": [
        "print(pib_paises[1])"
      ],
      "id": "1265cdfc",
      "execution_count": null,
      "outputs": []
    },
    {
      "cell_type": "markdown",
      "metadata": {},
      "source": [
        "Também podemos acessar os elementos a partir do final da lista utilizando índices negativos, onde -1 representa o último elemento, -2 o penúltimo, e assim por diante:\n"
      ],
      "id": "cd8042fb"
    },
    {
      "cell_type": "code",
      "metadata": {},
      "source": [
        "# Acessando o último elemento\n",
        "ultimo_elemento = pib_paises[-1]\n",
        "print(ultimo_elemento)\n",
        "\n",
        "# Acessando o penúltimo elemento\n",
        "penultimo_elemento = pib_paises[-2]\n",
        "print(penultimo_elemento)"
      ],
      "id": "4d1bdd8b",
      "execution_count": null,
      "outputs": []
    },
    {
      "cell_type": "markdown",
      "metadata": {},
      "source": [
        "Podemos usar o método `append()`se desejamos adicionar um elemento ao final da lista, ou o método `insert()` se queremos adicionar um elemento em uma posição específica. Veja os exemplos de como usar ambos os métodos:\n"
      ],
      "id": "4c7e3b7c"
    },
    {
      "cell_type": "code",
      "metadata": {},
      "source": [
        "# Adicionando elementos ao final da lista usando append()\n",
        "pib_paises.append(2000)  # Adiciona o valor 2000 ao final da lista\n",
        "\n",
        "# Adicionando um elemento em uma posição específica usando insert()\n",
        "pib_paises.insert(1, 1500)  # Adiciona o valor 1500 na posição 1 da lista"
      ],
      "id": "67b69651",
      "execution_count": null,
      "outputs": []
    },
    {
      "cell_type": "markdown",
      "metadata": {},
      "source": [
        "Para verificar o tamanho de uma lista em Python, podemos usar a função `len()`.\n"
      ],
      "id": "46ec2475"
    },
    {
      "cell_type": "code",
      "metadata": {},
      "source": [
        "tamanho_lista = len(pib_paises)\n",
        "print(\"Tamanho da lista:\", tamanho_lista) "
      ],
      "id": "1384d5c2",
      "execution_count": null,
      "outputs": []
    },
    {
      "cell_type": "markdown",
      "metadata": {},
      "source": [
        "Para ordenar uma lista, podemos usar o método `sort()` para ordenação *in-place* (ou seja, a lista é modificada) ou a função `sorted()` para retornar uma nova lista ordenada sem modificar a original:\n"
      ],
      "id": "8011b9c8"
    },
    {
      "cell_type": "code",
      "metadata": {},
      "source": [
        "# Usando a função sorted() para retornar uma nova lista ordenada\n",
        "lista_ordenada = sorted(pib_paises)\n",
        "print(\"Nova lista ordenada:\", lista_ordenada)\n",
        "\n",
        "# Ordenando a lista usando o método sort()\n",
        "pib_paises.sort()\n",
        "print(\"Lista ordenada:\", pib_paises)"
      ],
      "id": "d1dfbd01",
      "execution_count": null,
      "outputs": []
    },
    {
      "cell_type": "markdown",
      "metadata": {},
      "source": [
        "O método `.pop()` é usado para remover e retornar o último elemento de uma lista. Também podemos especificar um índice para remover e retornar um elemento em uma posição específica da lista. Aqui está como usar o método `.pop()`:\n"
      ],
      "id": "bb9e0995"
    },
    {
      "cell_type": "code",
      "metadata": {},
      "source": [
        "# Removendo e retornando o último PIB da lista\n",
        "ultimo_pib = pib_paises.pop()\n",
        "print(\"Último PIB removido:\", ultimo_pib) \n",
        "print(\"Lista atualizada:\", pib_paises)\n",
        "\n",
        "# Removendo e retornando o PIB de um país específico da lista\n",
        "pib_removido = pib_paises.pop(1) \n",
        "print(\"PIB removido:\", pib_removido) \n",
        "print(\"Lista atualizada:\", pib_paises)"
      ],
      "id": "9c5a72b1",
      "execution_count": null,
      "outputs": []
    },
    {
      "cell_type": "markdown",
      "metadata": {},
      "source": [
        "### Tuplas\n",
        "\n",
        "As tuplas são estruturas de dados semelhantes às listas, mas com uma diferença fundamental: elas são imutáveis, ou seja, uma vez criadas, não podem ser modificadas. Elas são representadas por parênteses `()` em vez de colchetes `[]`.\n"
      ],
      "id": "23d3377b"
    },
    {
      "cell_type": "code",
      "metadata": {},
      "source": [
        "x = (1, 2, 3) # tupla (lista imutável)\n",
        "print(x)\n",
        "\n",
        "# x[0] = 5 # gera erro!"
      ],
      "id": "35ea8fec",
      "execution_count": null,
      "outputs": []
    },
    {
      "cell_type": "markdown",
      "metadata": {},
      "source": [
        "Podemos usar tuplas para representar informações que não devem ser alteradas, como por exemplo, as taxas de câmbio entre moedas. Veja:\n"
      ],
      "id": "79638c26"
    },
    {
      "cell_type": "code",
      "metadata": {},
      "source": [
        "taxas_cambio = ((\"USD\", \"EUR\", 0.82), (\"USD\", \"JPY\", 105.42), (\"EUR\", \"JPY\", 128.64))"
      ],
      "id": "3a2a52c3",
      "execution_count": null,
      "outputs": []
    },
    {
      "cell_type": "markdown",
      "metadata": {},
      "source": [
        "Neste exemplo, temos uma tupla de tuplas que representam as taxas de câmbio entre o dólar (USD), o euro (EUR) e o iene japonês (JPY) para uma data fixa fictícia. Cada tupla interna contém três elementos: a moeda de origem, a moeda de destino e a taxa de câmbio. Como essas informações não devem ser alteradas, uma tupla é uma escolha apropriada.\n",
        "\n",
        "::: callout-tip\n",
        "Para acessar os elementos de uma tupla, você pode usar a mesma sintaxe que usa para acessar os elementos de uma lista, ou seja, usando colchetes `[]` e o índice do elemento desejado. Lembre-se de que os índices em Python começam em 0!\n",
        ":::\n",
        "\n",
        "### Dicionários\n",
        "\n",
        "Dicionários em Python são estruturas de dados que permitem armazenar pares de chave-valor. Cada valor é associado a uma chave específica, permitindo o acesso rápido aos dados por meio das chaves, em vez de índices numéricos, como em listas e tuplas. Essa estrutura é útil quando você precisa associar informações de maneira semelhante a um banco de dados, onde você pode buscar informações com base em uma chave específica.\n",
        "\n",
        "No exemplo abaixo, temos cotações de ações de algumas empresas brasileiras listadas na bolsa de valores.\n"
      ],
      "id": "47d035f1"
    },
    {
      "cell_type": "code",
      "metadata": {},
      "source": [
        "cotacoes_acoes_brasileiras = {\n",
        "    \"PETR4\": 36.75,\n",
        "    \"VALE3\": 62.40,\n",
        "    \"ITUB4\": 34.15,\n",
        "    \"BBDC4\": 13.82\n",
        "}"
      ],
      "id": "5ab4d1f6",
      "execution_count": null,
      "outputs": []
    },
    {
      "cell_type": "markdown",
      "metadata": {},
      "source": [
        "Cada chave é o código de negociação da ação na bolsa, e o valor associado é o preço da ação em uma data fixada. Por exemplo, `cotacoes_acoes_brasileiras[\"PETR4\"]` retornaria o preço da ação da Petrobras.\n",
        "\n",
        "Alternativamente, você pode criar um dicionário usando a função `dict`:\n"
      ],
      "id": "28c91d3e"
    },
    {
      "cell_type": "code",
      "metadata": {},
      "source": [
        "cotacoes_acoes_brasileiras = dict(PETR4=36.12, VALE3=62.40, ITUB4=34.15, BBDC4=13.82)"
      ],
      "id": "dafc5995",
      "execution_count": null,
      "outputs": []
    },
    {
      "cell_type": "markdown",
      "metadata": {},
      "source": [
        "Você pode adicionar novos pares chave-valor a um dicionário ou atualizar os valores existentes. Por exemplo:\n"
      ],
      "id": "a9b68263"
    },
    {
      "cell_type": "code",
      "metadata": {},
      "source": [
        "cotacoes_acoes_brasileiras[\"ABEV3\"] = 12.80\n",
        "cotacoes_acoes_brasileiras[\"PETR4\"] = 36.75"
      ],
      "id": "97bb7836",
      "execution_count": null,
      "outputs": []
    },
    {
      "cell_type": "markdown",
      "metadata": {},
      "source": [
        "Você pode remover pares chave-valor de um dicionário usando o comando método `pop()`. Por exemplo:\n"
      ],
      "id": "210e6a5e"
    },
    {
      "cell_type": "code",
      "metadata": {},
      "source": [
        "valor_removido = cotacoes_acoes_brasileiras.pop(\"BBDC4\")"
      ],
      "id": "c9e26f17",
      "execution_count": null,
      "outputs": []
    },
    {
      "cell_type": "markdown",
      "metadata": {},
      "source": [
        "Outros métodos úteis para trabalhar com dicionários são `keys()`, `values()` e `items()` que retornam listas com as chaves, valores e itens do dicionário, respectivamente.\n"
      ],
      "id": "3af5203f"
    },
    {
      "cell_type": "code",
      "metadata": {},
      "source": [
        "cotacoes_acoes_brasileiras.keys() # retorna uma lista contendo todas as chaves"
      ],
      "id": "f4a384d1",
      "execution_count": null,
      "outputs": []
    },
    {
      "cell_type": "code",
      "metadata": {},
      "source": [
        "cotacoes_acoes_brasileiras.values() # retorna uma lista contendo todos os valores"
      ],
      "id": "cec17175",
      "execution_count": null,
      "outputs": []
    },
    {
      "cell_type": "code",
      "metadata": {},
      "source": [
        "cotacoes_acoes_brasileiras.items() # retorna uma lista de tuplas"
      ],
      "id": "da9e0bab",
      "execution_count": null,
      "outputs": []
    },
    {
      "cell_type": "markdown",
      "metadata": {},
      "source": [
        "## Fatias (*slices*)\n",
        "\n",
        "O conceito de fatias, também conhecido como \"*slicing*\" em inglês, refere-se à técnica de extrair partes específicas de uma sequência, como uma lista, tupla ou string, usando índices. Ao utilizar fatias, você pode selecionar um intervalo de elementos dentro da sequência.\n",
        "\n",
        "A sintaxe básica para fatias é `sequencia[inicio:fim:passo]`, onde:\n",
        "\n",
        "-   `inicio`: o índice inicial do intervalo a ser incluído na fatia (incluído).\n",
        "\n",
        "-   `fim`: o índice final do intervalo a ser incluído na fatia (excluído).\n",
        "\n",
        "-   `passo`: o tamanho do passo entre os elementos selecionados (opcional).\n",
        "\n",
        "Considere a lista abaixo.\n"
      ],
      "id": "407de8d4"
    },
    {
      "cell_type": "code",
      "metadata": {},
      "source": [
        "nomes_paises = [\"Indonésia\", \"Índia\", \"Brasil\", \"África do Sul\", \"Alemanha\"]"
      ],
      "id": "1f866370",
      "execution_count": null,
      "outputs": []
    },
    {
      "cell_type": "markdown",
      "metadata": {},
      "source": [
        "Para acessar os três primeiros países, podemos fazer:\n"
      ],
      "id": "6eedbac3"
    },
    {
      "cell_type": "code",
      "metadata": {},
      "source": [
        "nomes_paises[:3]"
      ],
      "id": "5e2a2df6",
      "execution_count": null,
      "outputs": []
    },
    {
      "cell_type": "markdown",
      "metadata": {},
      "source": [
        "Isso retorna os elementos da lista do índice 0 (inclusivo) ao índice 3 (exclusivo).\n",
        "\n",
        "Se quisermos acessar os países do segundo ao terceiro:\n"
      ],
      "id": "786811bd"
    },
    {
      "cell_type": "code",
      "metadata": {},
      "source": [
        "nomes_paises[1:4]"
      ],
      "id": "5d069621",
      "execution_count": null,
      "outputs": []
    },
    {
      "cell_type": "markdown",
      "metadata": {},
      "source": [
        "Podemos até mesmo fazer fatias reversas, onde o índice inicial é maior que o índice final, indicando que queremos percorrer a lista de trás para frente. Por exemplo, para acessar os últimos três países:\n"
      ],
      "id": "f25c4eb5"
    },
    {
      "cell_type": "code",
      "metadata": {},
      "source": [
        "nomes_paises[-3:]"
      ],
      "id": "26dd9e1d",
      "execution_count": null,
      "outputs": []
    },
    {
      "cell_type": "markdown",
      "metadata": {},
      "source": [
        "Suponha que queremos acessar todos os países, mas pulando de dois em dois:\n"
      ],
      "id": "7996af06"
    },
    {
      "cell_type": "code",
      "metadata": {},
      "source": [
        "nomes_paises[::2]"
      ],
      "id": "6d597c7a",
      "execution_count": null,
      "outputs": []
    },
    {
      "cell_type": "markdown",
      "metadata": {},
      "source": [
        "Neste exemplo, o `::2` indica que queremos começar do início da lista e ir até o final, pulando de dois em dois elementos.\n",
        "\n",
        "## Condicionais\n",
        "\n",
        "O `if` e o `else` são estruturas de controle de fluxo em Python, usadas para tomar decisões com base em condições.\n",
        "\n",
        "O bloco de código dentro do `if` é executado se a condição for avaliada como verdadeira (`True`). Por exemplo:\n"
      ],
      "id": "56955f52"
    },
    {
      "cell_type": "code",
      "metadata": {},
      "source": [
        "idade = 18\n",
        "if idade >= 18:\n",
        "    print(\"Você é maior de idade.\")"
      ],
      "id": "62810cbb",
      "execution_count": null,
      "outputs": []
    },
    {
      "cell_type": "markdown",
      "metadata": {},
      "source": [
        "O bloco de código dentro do `else` é executado se a condição do if for avaliada como falsa (`False`). Por exemplo:\n"
      ],
      "id": "04a22701"
    },
    {
      "cell_type": "code",
      "metadata": {},
      "source": [
        "idade = 16\n",
        "if idade >= 18:\n",
        "    print(\"Você é maior de idade.\")\n",
        "else:\n",
        "    print(\"Você é menor de idade.\")"
      ],
      "id": "296cc3f1",
      "execution_count": null,
      "outputs": []
    },
    {
      "cell_type": "markdown",
      "metadata": {},
      "source": [
        "::: {.callout-tip title=\"Indentação\"}\n",
        "Em Python, a indentação é fundamental para definir blocos de código. No exemplo acima, observe que o código dentro do `if` e do `else` está indentado com quatro espaços. Isso indica que essas linhas pertencem ao bloco de código condicional. Se não houver indentação correta, o Python gerará um erro de sintaxe.\n",
        ":::\n",
        "\n",
        "## Estruturas repetitivas\n",
        "\n",
        "As estruturas de repetição são utilizadas para executar um bloco de código repetidamente com base em uma condição específica. Existem duas principais estruturas de repetição em Python: `for` e `while`.\n",
        "\n",
        "### `for`\n",
        "\n",
        "O loop `for` é utilizado para iterar sobre uma sequência (como uma lista, tupla, dicionário, etc.) e executar um bloco de código para cada item da sequência. Por exemplo:\n"
      ],
      "id": "e45feeae"
    },
    {
      "cell_type": "code",
      "metadata": {},
      "source": [
        "for x in range(0, 20, 3): # lembre da notação dos slices\n",
        "    print(x)"
      ],
      "id": "c256dcf3",
      "execution_count": null,
      "outputs": []
    },
    {
      "cell_type": "code",
      "metadata": {},
      "source": [
        "for pais in nomes_paises:\n",
        "    print(\"País:\", pais)"
      ],
      "id": "27c6c741",
      "execution_count": null,
      "outputs": []
    },
    {
      "cell_type": "markdown",
      "metadata": {},
      "source": [
        "No exemplo abaixo, temos uma lista de empresas e uma lista de lucros. Usando a função `zip()`, iteramos sobre essas duas listas em paralelo, imprimindo o nome da empresa e seu lucro correspondente. A função `zip()` combina elementos de duas ou mais sequências (como listas, tuplas, etc.) em pares ordenados.\n"
      ],
      "id": "633a46eb"
    },
    {
      "cell_type": "code",
      "metadata": {},
      "source": [
        "empresas = [\"Empresa A\", \"Empresa B\", \"Empresa C\"]\n",
        "lucros = [100000, 150000, 80000]\n",
        "\n",
        "for empresa, lucro in zip(empresas, lucros):\n",
        "    print(\"O lucro da empresa \", empresa, \"foi R$\", lucro)"
      ],
      "id": "08891a4e",
      "execution_count": null,
      "outputs": []
    },
    {
      "cell_type": "markdown",
      "metadata": {},
      "source": [
        "### `while`\n",
        "\n",
        "O `while` é uma estrutura de controle de fluxo que executa um bloco de código repetidamente enquanto uma condição especificada for verdadeira.\n"
      ],
      "id": "f76c2386"
    },
    {
      "cell_type": "code",
      "metadata": {},
      "source": [
        "anos = 1\n",
        "investimento = 1000\n",
        "taxa_de_retorno = 0.05\n",
        "\n",
        "while anos <= 10:\n",
        "    investimento *= (1 + taxa_de_retorno)\n",
        "    print(\"Após\", anos, \"anos, o investimento vale R$\", round(investimento, 2))\n",
        "    anos += 1"
      ],
      "id": "977f9d8a",
      "execution_count": null,
      "outputs": []
    },
    {
      "cell_type": "markdown",
      "metadata": {},
      "source": [
        "Neste exemplo, o loop calcula o valor do investimento ao longo de 10 anos, considerando um retorno anual de 5%. A cada iteração, o valor do investimento é atualizado multiplicando-se pelo fator de crescimento `(1 + taxa_de_retorno)`.\n",
        "\n",
        "## Comprehensions\n",
        "\n",
        "As comprehensions são uma maneira concisa e poderosa de criar coleções em Python, como listas, dicionários e conjuntos, a partir de iteráveis existentes, como listas, dicionários, conjuntos ou sequências. Elas permitem criar essas coleções de forma mais eficiente e legível em comparação com a abordagem tradicional de usar loops. As *comprehensions* podem incluir expressões condicionais para filtrar elementos ou expressões para transformar os elementos durante a criação da coleção.\n",
        "\n",
        "Por exemplo, você pode criar uma lista de quadrados dos números de 1 a 10 usando uma compreensão de lista:\n"
      ],
      "id": "0224aba1"
    },
    {
      "cell_type": "code",
      "metadata": {},
      "source": [
        "quadrados = [x ** 2 for x in range(1, 11)]\n",
        "quadrados"
      ],
      "id": "4a4d4300",
      "execution_count": null,
      "outputs": []
    },
    {
      "cell_type": "markdown",
      "metadata": {},
      "source": [
        "Isso é equivalente a:\n"
      ],
      "id": "1a4a2de1"
    },
    {
      "cell_type": "code",
      "metadata": {},
      "source": [
        "quadrados = []\n",
        "for x in range(1, 11):\n",
        "    quadrados.append(x ** 2)"
      ],
      "id": "58d1bbaf",
      "execution_count": null,
      "outputs": []
    },
    {
      "cell_type": "markdown",
      "metadata": {},
      "source": [
        "As *comprehensions* podem ser aplicadas a listas, dicionários e conjuntos, e você pode adicionar cláusulas condicionais para filtrar elementos com base em uma condição específica.\n",
        "\n",
        "Abaixo, as variáveis `linhas` e `colunas` são definidas como intervalos de números de 1 a 3 e de 1 a 2, respectivamente. Em seguida, é utilizada uma compreensão de lista para gerar todos os pares possíveis, combinando cada valor de `linha` com cada valor de `coluna.` Por fim, um loop `for` é usado para iterar sobre a lista de pares e imprimir cada par na saída. O resultado será a impressão de todos os pares ordenados possíveis, combinando os valores de linha e coluna especificados.\n"
      ],
      "id": "3ae4420d"
    },
    {
      "cell_type": "code",
      "metadata": {},
      "source": [
        "linhas = range(1, 4)\n",
        "colunas = range(1, 3)\n",
        "\n",
        "pares = [(r, c) for r in linhas for c in colunas]\n",
        "\n",
        "for x in pares:\n",
        "    print(x)"
      ],
      "id": "a649ccce",
      "execution_count": null,
      "outputs": []
    },
    {
      "cell_type": "markdown",
      "metadata": {},
      "source": [
        "Neste exemplo abaixo, a palavra \"inconstitucionalissimamente\" é analisada para contar quantas vezes cada letra aparece. Em seguida, é feito um loop sobre o dicionário resultante para imprimir a contagem de ocorrências de cada letra.\n"
      ],
      "id": "853d2627"
    },
    {
      "cell_type": "code",
      "metadata": {},
      "source": [
        "palavra = \"inconstitucionalissimamente\"\n",
        "\n",
        "frequencia_letras = {letra: palavra.count(letra) for letra in palavra}\n",
        "\n",
        "for letra, ocorrencias in frequencia_letras.items():\n",
        "    print(\"A letra\", letra, \"ocorre\", ocorrencias, \"vezes\" if ocorrencias > 1 else \"vez\")"
      ],
      "id": "e73d0d53",
      "execution_count": null,
      "outputs": []
    },
    {
      "cell_type": "markdown",
      "metadata": {},
      "source": [
        "## Funções\n",
        "\n",
        "As funções são blocos de código reutilizáveis que realizam uma tarefa específica.\\\n",
        "Elas aceitam entradas, chamadas de argumentos, e podem retornar resultados.\n",
        "\n",
        "Em Python, a sintaxe básica de uma função é a seguinte:\n"
      ],
      "id": "6613cdf9"
    },
    {
      "cell_type": "code",
      "metadata": {},
      "source": [
        "#| eval: false\n",
        "\n",
        "def nome_da_funcao(argumento1, argumento2, ...):\n",
        "    # Corpo da função\n",
        "    # Faça alguma coisa com os argumentos\n",
        "    resultado = argumento1 + argumento2\n",
        "    return resultado"
      ],
      "id": "07eac763",
      "execution_count": null,
      "outputs": []
    },
    {
      "cell_type": "markdown",
      "metadata": {},
      "source": [
        "Por exemplo, vamos criar uma função em Python chamada `calcular_juros` que calcula o montante final de um investimento com base no valor inicial, na taxa de juros e no número de anos:\n"
      ],
      "id": "02476314"
    },
    {
      "cell_type": "code",
      "metadata": {},
      "source": [
        "def calcular_juros(valor_inicial, taxa_juros, anos):\n",
        "    montante_final = valor_inicial * (1 + taxa_juros) ** anos\n",
        "    return montante_final"
      ],
      "id": "d2d8fc55",
      "execution_count": null,
      "outputs": []
    },
    {
      "cell_type": "markdown",
      "metadata": {},
      "source": [
        "Agora, definimos valores e chamamos a função:\n"
      ],
      "id": "aa21c467"
    },
    {
      "cell_type": "code",
      "metadata": {},
      "source": [
        "investimento_inicial = 1000  # Valor inicial do investimento\n",
        "taxa_juros_anual = 0.05      # Taxa de juros anual (5%)\n",
        "anos = 5                     # Número de anos\n",
        "resultado = calcular_juros(investimento_inicial, taxa_juros_anual, anos)\n",
        "print(\"O montante final após\", anos, \"anos será de: R$\", round(resultado, 2))"
      ],
      "id": "2c8e7072",
      "execution_count": null,
      "outputs": []
    },
    {
      "cell_type": "markdown",
      "metadata": {},
      "source": [
        "### Função `lambda`\n",
        "\n",
        "Uma função lambda em Python é uma função anônima, o que significa que é uma função sem nome. Ela é definida usando a palavra-chave lambda e pode ter qualquer número de argumentos, mas apenas uma expressão. A sintaxe básica é a seguinte:\n"
      ],
      "id": "09be0e9b"
    },
    {
      "cell_type": "code",
      "metadata": {},
      "source": [
        "#| eval: false\n",
        "lambda argumento1, argumento2, ...: expressao"
      ],
      "id": "fdefbb74",
      "execution_count": null,
      "outputs": []
    },
    {
      "cell_type": "markdown",
      "metadata": {},
      "source": [
        "Veja um exemplo de uma função lambda que calcula o quadrado de um número:\n"
      ],
      "id": "fce60802"
    },
    {
      "cell_type": "code",
      "metadata": {},
      "source": [
        "quadrado = lambda x: x ** 2"
      ],
      "id": "56682c76",
      "execution_count": null,
      "outputs": []
    },
    {
      "cell_type": "markdown",
      "metadata": {},
      "source": [
        "Neste exemplo, `lambda x: x ** 2` cria uma função que aceita um argumento `x` e retorna `x` ao quadrado. Você pode então usar essa função da mesma forma que qualquer outra função. Por exemplo:\n"
      ],
      "id": "a9cb9f21"
    },
    {
      "cell_type": "code",
      "metadata": {},
      "source": [
        "resultado = quadrado(5)\n",
        "print(resultado)"
      ],
      "id": "d98598a2",
      "execution_count": null,
      "outputs": []
    },
    {
      "cell_type": "markdown",
      "metadata": {},
      "source": [
        "As funções lambda são frequentemente usadas em situações em que você precisa de uma função temporária e simples, como em operações de mapeamento, filtragem e ordenação de dados.\n",
        "\n",
        "## Classes e objetos\n",
        "\n",
        "Uma classe é uma estrutura que define o comportamento e as propriedades de um tipo de objeto. Podemos pensar em uma classe como uma representação de um conceito abstrato, como uma transação financeira ou um tipo específico de investimento.\n",
        "\n",
        "Por exemplo, podemos criar uma classe chamada `Transacao` para representar uma transação financeira, com propriedades como o valor da transação, a data e o tipo de transação.\n",
        "\n",
        "Um objeto, por outro lado, é uma instância específica de uma classe. Ele representa uma entidade concreta com suas próprias características e comportamentos. Continuando com o exemplo da classe `Transacao`, podemos criar objetos individuais para representar transações específicas, como a compra de ações de uma empresa em uma determinada data.\n"
      ],
      "id": "3b5745a3"
    },
    {
      "cell_type": "code",
      "metadata": {},
      "source": [
        "class Transacao:\n",
        "    def __init__(self, valor, data, tipo):\n",
        "        self.valor = valor\n",
        "        self.data = data\n",
        "        self.tipo = tipo\n",
        "    \n",
        "    def print_info(self):\n",
        "      print(f\"Tipo da transação: {self.tipo}, Valor: R${self.valor}, Data:{self.data}\")"
      ],
      "id": "2cfb6e4e",
      "execution_count": null,
      "outputs": []
    },
    {
      "cell_type": "markdown",
      "metadata": {},
      "source": [
        "Neste exemplo, a classe `Transacao` possui um método especial `__init__` que é chamado quando um novo objeto é criado. Esse método inicializa as propriedades do objeto com os valores fornecidos como argumentos. Além disso, a classe possui um método chamado `print_info`, que imprime as informações da transação, incluindo o tipo, o valor e a data. Esse método também recebe `self` como parâmetro para acessar os atributos da instância atual da classe. Ao chamar `print_info()` em um objeto `Transacao`, ele exibirá as informações formatadas da transação.\n",
        "\n",
        "A seguir, criamos dois objetos da classe `Transacao`, `transacao1` e `transacao2`, e acessamos suas propriedades para obter informações sobre as transações.\n"
      ],
      "id": "a5dd927b"
    },
    {
      "cell_type": "code",
      "metadata": {},
      "source": [
        "# Criando objetos da classe Transacao\n",
        "transacao1 = Transacao(valor=1000, data=\"2024-03-11\", tipo=\"Compra de ações\")\n",
        "transacao2 = Transacao(valor=500, data=\"2024-03-12\", tipo=\"Venda de ações\")\n",
        "\n",
        "# Acessando as propriedades dos objetos\n",
        "print(\"Valor da transação 1:\", transacao1.valor)\n",
        "print(\"Data da transação 2:\", transacao2.data)\n",
        "\n",
        "# Acessando métodos dos objetos\n",
        "transacao1.print_info()\n",
        "transacao2.print_info()"
      ],
      "id": "e730dc83",
      "execution_count": null,
      "outputs": []
    },
    {
      "cell_type": "markdown",
      "metadata": {},
      "source": [
        "## Exercícios\n",
        "\n",
        "**1.** Trabalhando com tipos de dados básicos\n",
        "\n",
        "**a)** Crie variáveis para representar dados econômicos, como o PIB de pelo menos três países, taxas de inflação ou taxas de desemprego. Use valores recentes e históricos para criar um conjunto diversificado de dados econômicos que representem diferentes contextos econômicos ao redor do mundo.\n",
        "\n",
        "**b)** Realize operações matemáticas básicas com esses dados, como calcular médias, taxas de crescimento ou proporções. Por exemplo, você pode calcular médias dos valores do PIB, taxas de crescimento do PIB ao longo do tempo, proporções entre diferentes indicadores econômicos (como o PIB per capita em relação ao PIB total), entre outras operações.\n",
        "\n",
        "**2.** Durante a análise de dados, pode ser necessário converter entre diferentes tipos de dados. Utilize os tipos de dados fundamentais (integers, floats, strings) e aplique coerção de tipos conforme necessário. Considere, por exemplo que as variáveis representando o PIB foram dadas em formato `string`. Então, converta um tipo `float` para computar a média dos PIBs considerados. Depois disso, converta novamente os valores de PIB em uma `string` para formatação de saída ser no seguinte formato `1,111%`.\n",
        "\n",
        "**3.** Utilize o código abaixo para gerar um pandas dataframe que representa o preço de fechamento de uma ação\n"
      ],
      "id": "459a54f2"
    },
    {
      "cell_type": "code",
      "metadata": {},
      "source": [
        "import pandas as pd\n",
        "\n",
        "# Criando uma lista de datas\n",
        "datas = pd.date_range(start='2023-01-01', end='2023-12-31', freq='B')  # Frequência 'B' para considerar apenas dias úteis\n",
        "\n",
        "# Criando uma série de preços de fechamento simulados\n",
        "import numpy as np\n",
        "np.random.seed(0)  # Define a semente aleatória para reprodutibilidade\n",
        "precos_fechamento = np.random.normal(loc=50, scale=5, size=len(datas))  # Simulando preços com distribuição normal\n",
        "\n",
        "# Criando o DataFrame\n",
        "df_precos_acoes = pd.DataFrame({'Data': datas, 'Preço de Fechamento': precos_fechamento})\n",
        "\n",
        "# Exibindo as primeiras linhas do DataFrame\n",
        "print(df_precos_acoes.head())"
      ],
      "id": "7b99647b",
      "execution_count": null,
      "outputs": []
    },
    {
      "cell_type": "markdown",
      "metadata": {},
      "source": [
        "**a)** Obtenha os preços de fechamento da ação durante do mês de janeiro determinado.\n",
        "\n",
        "**b)** Obtenha os preços de fechamento da ação entre 2023-06-01 e 2023-12-31.\n",
        "\n",
        "**c)** Obtenha os preços de fechamento da ação às sextas-feiras ao longo de todo o período. Calcule o preço de fechamento médio às segundas-feiras e compare com o das sextas-feiras. Qual deles apresenta maior desvio padrão?\n"
      ],
      "id": "faccebd4"
    },
    {
      "cell_type": "code",
      "metadata": {},
      "source": [
        "# Criando uma coluna para armazenar o dia da semana\n",
        "df_precos_acoes['Dia da Semana'] = df_precos_acoes['Data'].dt.weekday\n",
        "\n",
        "# Exibindo as primeiras linhas do DataFrame com a nova coluna\n",
        "print(df_precos_acoes.head())"
      ],
      "id": "45722346",
      "execution_count": null,
      "outputs": []
    },
    {
      "cell_type": "markdown",
      "metadata": {},
      "source": [
        "**4.** Considere a lista armazenada na variável `pib_anos` abaixo e utilize uma compreensão de lista para calcular o crescimento percentual do PIB em relação ao ano anterior para cada país.\n"
      ],
      "id": "4b658402"
    },
    {
      "cell_type": "code",
      "metadata": {},
      "source": [
        "# Lista de PIB de um pais nos últimos cinco anos\n",
        "pib_anos = [1000, 1200, 800, 1500, 2000]  # Exemplo de valores fictícios para o PIB"
      ],
      "id": "5a367872",
      "execution_count": null,
      "outputs": []
    },
    {
      "cell_type": "code",
      "metadata": {},
      "source": [
        "#| eval: false\n",
        "#| echo: false\n",
        "# Compreensão de lista para calcular o crescimento percentual do PIB em relação ao ano anterior para cada país\n",
        "crescimento_pib = [(atual / anterior - 1) * 100 for atual, anterior in zip(pib_anos[1:], pib_anos[:-1])]\n",
        "print(\"Crescimento percentual do PIB em relação ao ano anterior:\")\n",
        "for i, crescimento in enumerate(crescimento_pib):\n",
        "    print(f\"País {i + 2}: {crescimento:.2f}%\")"
      ],
      "id": "55297175",
      "execution_count": null,
      "outputs": []
    },
    {
      "cell_type": "markdown",
      "metadata": {},
      "source": [
        "**5.** Escreva uma função chamada `calcular_ipc` que receba três argumentos:\n",
        "\n",
        "-   cesta_de_produtos: Um dicionário que mapeia cada produto a sua quantidade na cesta.\n",
        "-   precos_atual: Um dicionário que mapeia cada produto ao seu preço atual.\n",
        "-   precos_base: Um dicionário que mapeia cada produto ao seu preço base (preço de referência). O IPC é calculado utilizando a seguinte fórmula: $$IPC = \\sum_i \\frac{\\text{preço atual do produto}_i}{\\text{preço base do produto}_i}\\times \\text{quantidade do produto}_i.$$ A função deve retornar o valor calculado do IPC. Use o código abaixo para testar sua função.\n"
      ],
      "id": "7e44b8d7"
    },
    {
      "cell_type": "code",
      "metadata": {},
      "source": [
        "#| eval: false\n",
        "#| echo: false\n",
        "def calcular_ipc(cesta_de_produtos, precos_atual, precos_base):\n",
        "    ipc = 0\n",
        "    for produto, preco_atual in precos_atual.items():\n",
        "        preco_base = precos_base[produto]\n",
        "        ipc += (preco_atual / preco_base) * cesta_de_produtos[produto]\n",
        "    return ipc\n",
        "\n",
        "# Exemplo de uso da função calcular_ipc\n",
        "cesta_de_produtos = {'arroz': 1, 'feijao': 2, 'carne': 3}  # Cesta de produtos com suas respectivas quantidades\n",
        "precos_atual = {'arroz': 5, 'feijao': 8, 'carne': 12}      # Preços atuais dos produtos\n",
        "precos_base = {'arroz': 4, 'feijao': 7, 'carne': 10}      # Preços base dos produtos\n",
        "\n",
        "ipc = calcular_ipc(cesta_de_produtos, precos_atual, precos_base)\n",
        "print(\"O Índice de Preços ao Consumidor (IPC) é:\", ipc)"
      ],
      "id": "a705848f",
      "execution_count": null,
      "outputs": []
    },
    {
      "cell_type": "code",
      "metadata": {},
      "source": [
        "#| eval: false\n",
        "# Cesta de produtos com suas respectivas quantidades\n",
        "cesta_de_produtos = {'arroz': 1, 'feijao': 2, 'carne': 3}  \n",
        "# Preços atuais dos produtos\n",
        "precos_atual = {'arroz': 5, 'feijao': 8, 'carne': 12}      \n",
        "# Preços base dos produtos\n",
        "precos_base = {'arroz': 4, 'feijao': 7, 'carne': 10}      \n",
        "\n",
        "# Chamada da função para calcular o IPC\n",
        "ipc = calcular_ipc(cesta_de_produtos, precos_atual, precos_base)\n",
        "print(\"O Índice de Preços ao Consumidor (IPC) é:\", ipc)"
      ],
      "id": "095ef097",
      "execution_count": null,
      "outputs": []
    },
    {
      "cell_type": "markdown",
      "metadata": {},
      "source": [
        "**6.** Você está encarregado de desenvolver um sistema para registrar e gerenciar transações de compra e venda de ações, além de calcular informações importantes sobre a carteira de investimentos. Para isso, você deve implementar duas classes em Python: `Transacao` e `Carteira.`\n",
        "\n",
        "A classe `Transacao` representa uma única transação de compra ou venda de ações. Ela possui os seguintes atributos:\n",
        "\n",
        "-   `data`: uma string representando a data da transação no formato 'AAAA-MM-DD'. tipo: uma string indicando o tipo da transação, que pode ser 'compra' ou 'venda'.\n",
        "-   `valor`: um número inteiro representando a quantidade de ações transacionadas.\n",
        "\n",
        "A classe `Carteira` representa a carteira de investimentos do usuário, que contém várias transações de ações. Ela possui os seguintes atributos: - `transacoes`: uma lista que armazena todas as transações de ações realizadas.\n",
        "\n",
        "Além disso, a classe `Carteira` possui os seguintes métodos:\n",
        "\n",
        "-   `adicionar_transacao(transacao)`: adiciona uma nova transação à carteira.\n",
        "-   `calcular_posicao_atual(valor_atual_acao)`: calcula a posição atual da ação na carteira com base no valor atual da ação.\n",
        "-   `calcular_valor_presente(valor_atual_acao)`: calcula o valor presente da ação na carteira com base no valor atual da ação.\n"
      ],
      "id": "1336f3c2"
    },
    {
      "cell_type": "code",
      "metadata": {},
      "source": [
        "#| eval: false\n",
        "#| echo: false\n",
        "class Transacao:\n",
        "    def __init__(self, data, tipo, valor):\n",
        "        self.data = data\n",
        "        self.tipo = tipo  # 'compra' ou 'venda'\n",
        "        self.valor = valor\n",
        "\n",
        "class Carteira:\n",
        "    def __init__(self):\n",
        "        self.transacoes = []\n",
        "\n",
        "    def adicionar_transacao(self, transacao):\n",
        "        self.transacoes.append(transacao)\n",
        "\n",
        "    def calcular_posicao_atual(self, valor_atual_acao):\n",
        "        qtd_acoes = 0\n",
        "        for transacao in self.transacoes:\n",
        "            if transacao.tipo == 'compra':\n",
        "                qtd_acoes += transacao.valor\n",
        "            elif transacao.tipo == 'venda':\n",
        "                qtd_acoes -= transacao.valor\n",
        "        return qtd_acoes\n",
        "\n",
        "    def calcular_valor_presente(self, valor_atual_acao):\n",
        "        posicao_atual = self.calcular_posicao_atual(valor_atual_acao)\n",
        "        valor_presente = posicao_atual * valor_atual_acao\n",
        "        return valor_presente\n",
        "\n",
        "\n",
        "# Exemplo de uso das classes\n",
        "\n",
        "# Criando algumas transações\n",
        "transacao1 = Transacao('2024-03-18', 'compra', 10)  # Compra de 10 ações\n",
        "transacao2 = Transacao('2024-03-19', 'compra', 5)   # Compra de mais 5 ações\n",
        "transacao3 = Transacao('2024-03-20', 'venda', 8)    # Venda de 8 ações\n",
        "\n",
        "# Criando uma carteira e adicionando as transações\n",
        "carteira = Carteira()\n",
        "carteira.adicionar_transacao(transacao1)\n",
        "carteira.adicionar_transacao(transacao2)\n",
        "carteira.adicionar_transacao(transacao3)\n",
        "\n",
        "# Valor atual da ação\n",
        "valor_atual_acao = 50  # Valor hipotético da ação\n",
        "\n",
        "# Calculando a posição atual e o valor presente na carteira\n",
        "posicao_atual = carteira.calcular_posicao_atual(valor_atual_acao)\n",
        "valor_presente = carteira.calcular_valor_presente(valor_atual_acao)\n",
        "\n",
        "print(\"Posição atual da ação na carteira:\", posicao_atual)\n",
        "print(\"Valor presente na carteira:\", valor_presente)"
      ],
      "id": "5cdac4f0",
      "execution_count": null,
      "outputs": []
    },
    {
      "cell_type": "markdown",
      "metadata": {},
      "source": [
        "**a)** Implemente as classes Transacao e Carteira com os atributos e métodos descritos acima.\n",
        "\n",
        "**b)** Crie três instâncias da classe Transacao para representar diferentes transações de compra e venda de ações.\n",
        "\n",
        "**c)** Crie uma instância da classe Carteira e adicione as transações criadas à carteira.\n",
        "\n",
        "**d)** Teste os métodos da classe Carteira, utilizando os exemplos fornecidos no código de teste abaixo.\n"
      ],
      "id": "f02c21bf"
    },
    {
      "cell_type": "code",
      "metadata": {},
      "source": [
        "#| eval: false\n",
        "# Criando algumas transações\n",
        "transacao1 = Transacao('2024-03-18', 'compra', 10)  # Compra de 10 ações\n",
        "transacao2 = Transacao('2024-03-19', 'compra', 5)   # Compra de mais 5 ações\n",
        "transacao3 = Transacao('2024-03-20', 'venda', 8)    # Venda de 8 ações\n",
        "\n",
        "# Criando uma carteira e adicionando as transações\n",
        "carteira = Carteira()\n",
        "carteira.adicionar_transacao(transacao1)\n",
        "carteira.adicionar_transacao(transacao2)\n",
        "carteira.adicionar_transacao(transacao3)\n",
        "\n",
        "# Valor atual da ação (hipotético)\n",
        "valor_atual_acao = 50\n",
        "\n",
        "# Testando os métodos da classe Carteira\n",
        "posicao_atual = carteira.calcular_posicao_atual(valor_atual_acao)\n",
        "valor_presente = carteira.calcular_valor_presente(valor_atual_acao)\n",
        "\n",
        "# Exibindo os resultados\n",
        "print(\"Posição atual da ação na carteira:\", posicao_atual)\n",
        "print(\"Valor presente na carteira:\", valor_presente)"
      ],
      "id": "3852c9b3",
      "execution_count": null,
      "outputs": []
    }
  ],
  "metadata": {
    "kernelspec": {
      "display_name": "Python 3",
      "language": "python",
      "name": "python3"
    }
  },
  "nbformat": 4,
  "nbformat_minor": 5
}